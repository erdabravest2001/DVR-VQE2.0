{
 "cells": [
  {
   "cell_type": "code",
   "execution_count": 46,
   "metadata": {},
   "outputs": [],
   "source": [
    "from qiskit_ibm_runtime import QiskitRuntimeService\n",
    "service = QiskitRuntimeService(\n",
    "    channel='ibm_quantum',\n",
    "    instance='pinq-quebec-hub/qai-quantum-algo/default',\n",
    "    token='50e4f60f02cd247a763d93cbeb949668b4383e6df68ba8a7b4c97b35be7d9cf41f83566cb249b7619d46f081d8349d911392a9d12def4088966310b9168a7f10'\n",
    ")\n",
    "\n",
    "backend = service.get_backend('ibm_quebec')\n",
    "jobs = service.jobs(limit=800, skip=0, backend_name='ibm_quebec', session_id='cq06xjedhsd0008e55jg')\n",
    "results = []\n",
    "parameters =[]\n",
    "\n",
    "for job in jobs:\n",
    "    result = job.result().values\n",
    "    results.append(result)\n",
    "j_136 = jobs[136]\n",
    "jobp = j_136.metadata\n",
    "parameters.append(jobp)"
   ]
  },
  {
   "cell_type": "code",
   "execution_count": 45,
   "metadata": {},
   "outputs": [
    {
     "name": "stdout",
     "output_type": "stream",
     "text": [
      "[{}]\n"
     ]
    }
   ],
   "source": [
    "print(parameters)"
   ]
  },
  {
   "cell_type": "code",
   "execution_count": 2,
   "metadata": {},
   "outputs": [
    {
     "ename": "NameError",
     "evalue": "name 'results' is not defined",
     "output_type": "error",
     "traceback": [
      "\u001b[0;31m---------------------------------------------------------------------------\u001b[0m",
      "\u001b[0;31mNameError\u001b[0m                                 Traceback (most recent call last)",
      "Cell \u001b[0;32mIn[2], line 2\u001b[0m\n\u001b[1;32m      1\u001b[0m \u001b[38;5;28;01mimport\u001b[39;00m \u001b[38;5;21;01mpandas\u001b[39;00m \u001b[38;5;28;01mas\u001b[39;00m \u001b[38;5;21;01mpd\u001b[39;00m\n\u001b[0;32m----> 2\u001b[0m vals \u001b[38;5;241m=\u001b[39m [result[\u001b[38;5;241m0\u001b[39m] \u001b[38;5;28;01mfor\u001b[39;00m result \u001b[38;5;129;01min\u001b[39;00m results]\n\u001b[1;32m      3\u001b[0m \u001b[38;5;28mprint\u001b[39m(vals)\n\u001b[1;32m      4\u001b[0m \u001b[38;5;28mlen\u001b[39m(vals)\n",
      "\u001b[0;31mNameError\u001b[0m: name 'results' is not defined"
     ]
    }
   ],
   "source": [
    "import pandas as pd\n",
    "vals = [result[0] for result in results]\n",
    "print(vals)\n",
    "len(vals)"
   ]
  },
  {
   "cell_type": "code",
   "execution_count": 1,
   "metadata": {},
   "outputs": [
    {
     "ename": "NameError",
     "evalue": "name 'vals' is not defined",
     "output_type": "error",
     "traceback": [
      "\u001b[0;31m---------------------------------------------------------------------------\u001b[0m",
      "\u001b[0;31mNameError\u001b[0m                                 Traceback (most recent call last)",
      "Cell \u001b[0;32mIn[1], line 10\u001b[0m\n\u001b[1;32m      7\u001b[0m sns\u001b[38;5;241m.\u001b[39mset_palette(\u001b[38;5;124m\"\u001b[39m\u001b[38;5;124mhusl\u001b[39m\u001b[38;5;124m\"\u001b[39m)  \u001b[38;5;66;03m# Set the 'husl' color palette\u001b[39;00m\n\u001b[1;32m      9\u001b[0m \u001b[38;5;66;03m# Create a DataFrame for plotting\u001b[39;00m\n\u001b[0;32m---> 10\u001b[0m x_values \u001b[38;5;241m=\u001b[39m \u001b[38;5;28mrange\u001b[39m(\u001b[38;5;241m1\u001b[39m, \u001b[38;5;28mlen\u001b[39m(vals) \u001b[38;5;241m+\u001b[39m \u001b[38;5;241m1\u001b[39m)  \u001b[38;5;66;03m# Generate x-axis values\u001b[39;00m\n\u001b[1;32m     11\u001b[0m df \u001b[38;5;241m=\u001b[39m pd\u001b[38;5;241m.\u001b[39mDataFrame({\u001b[38;5;124m'\u001b[39m\u001b[38;5;124mEnergy\u001b[39m\u001b[38;5;124m'\u001b[39m: vals, \u001b[38;5;124m'\u001b[39m\u001b[38;5;124mIndex\u001b[39m\u001b[38;5;124m'\u001b[39m: x_values})\n\u001b[1;32m     13\u001b[0m plt\u001b[38;5;241m.\u001b[39mfigure(figsize\u001b[38;5;241m=\u001b[39m(\u001b[38;5;241m10\u001b[39m, \u001b[38;5;241m6\u001b[39m))  \u001b[38;5;66;03m# Set figure size\u001b[39;00m\n",
      "\u001b[0;31mNameError\u001b[0m: name 'vals' is not defined"
     ]
    }
   ],
   "source": [
    "import matplotlib.pyplot as plt\n",
    "import seaborn as sns\n",
    "\n",
    "\n",
    "# Assuming 'vals' is your list of values\n",
    "sns.set_theme()  # Reset to default theme\n",
    "sns.set_palette(\"husl\")  # Set the 'husl' color palette\n",
    "\n",
    "# Create a DataFrame for plotting\n",
    "x_values = range(1, len(vals) + 1)  # Generate x-axis values\n",
    "df = pd.DataFrame({'Energy': vals, 'Index': x_values})\n",
    "\n",
    "plt.figure(figsize=(10, 6))  # Set figure size\n",
    "sns.lineplot(x='Index', y='Energy', data=df)  # Plot using Seaborn\n",
    "\n",
    "# Adding a horizontal line named \"target\"\n",
    "target_value = -548.62  # Placeholder, replace with your actual target value\n",
    "plt.axhline(y=target_value, color='r', linestyle='--', label=rf'Target = {target_value} cm$^{{-1}}$')\n",
    "\n",
    "# Set plot titles and labels\n",
    "plt.title(r'VQE for $Cr_{2}$' + '\\n' + r'Spin State: $^{13}\\Sigma^+_g$')\n",
    "\n",
    "plt.xlabel('Count')\n",
    "plt.ylabel(r'$\\langle \\psi(\\tilde{\\phi}_0) | \\hat{H} | \\psi(\\tilde{\\phi}_0) \\rangle$ (cm$^{-1}$)')  # Corrected to remove extra 'h'\n",
    "plt.grid(True)  # Add grid\n",
    "plt.legend()  # Show legend to display the \"target\" label\n",
    "\n",
    "plt.show()  # Display the plot\n",
    "\n",
    "\n",
    "\n",
    "\n"
   ]
  },
  {
   "cell_type": "code",
   "execution_count": null,
   "metadata": {},
   "outputs": [],
   "source": []
  }
 ],
 "metadata": {
  "kernelspec": {
   "display_name": "base",
   "language": "python",
   "name": "python3"
  },
  "language_info": {
   "codemirror_mode": {
    "name": "ipython",
    "version": 3
   },
   "file_extension": ".py",
   "mimetype": "text/x-python",
   "name": "python",
   "nbconvert_exporter": "python",
   "pygments_lexer": "ipython3",
   "version": "3.11.5"
  }
 },
 "nbformat": 4,
 "nbformat_minor": 2
}
